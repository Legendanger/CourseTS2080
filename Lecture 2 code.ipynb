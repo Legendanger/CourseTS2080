{
 "cells": [
  {
   "cell_type": "code",
   "execution_count": 10,
   "id": "72989bca",
   "metadata": {},
   "outputs": [],
   "source": [
    "from abc import ABC,abstractmethod\n",
    "class Animal(ABC):\n",
    "\n",
    "    def sleep(self):\n",
    "      print(\"i am going to sleep now\")\n",
    "\n",
    "    @abstractmethod\n",
    "    def sound(self):\n",
    "      print(\"this function defines witch sound the animal makes\")\n",
    "\n",
    "    \n",
    "class Snake(Animal):\n",
    "     def sound(self):\n",
    "         print(\"i can hiss\")\n",
    "\n",
    "        \n",
    "        \n",
    "class "
   ]
  },
  {
   "cell_type": "code",
   "execution_count": null,
   "id": "a589bddc",
   "metadata": {},
   "outputs": [],
   "source": [
    "#single inheritans example \n",
    "\n",
    "class parent:\n",
    "    def func1(self):\n",
    "        print(\"Hello Parent\")\n",
    "\n",
    "\n",
    "class child(parent):\n",
    "    def func2(self):\n",
    "        print(\"hello Child\")\n",
    "\n",
    "        \n",
    "        \n",
    "# Driver code\n",
    "test = child()\n",
    "test.func1()\n",
    "test.func2()\n"
   ]
  },
  {
   "cell_type": "code",
   "execution_count": 12,
   "id": "036ebf2a",
   "metadata": {},
   "outputs": [
    {
     "name": "stdout",
     "output_type": "stream",
     "text": [
      "hello parent1\n",
      "hello parent2\n",
      "Hello child\n",
      "(<class '__main__.child'>, <class '__main__.parent1'>, <class '__main__.parent2'>, <class '__main__.parent3'>, <class 'object'>)\n"
     ]
    }
   ],
   "source": [
    "#multiple inheritans example\n",
    "\n",
    "class parent1:\n",
    "    def func1(self):\n",
    "        print(\"hello parent1\")\n",
    "\n",
    "class parent2:\n",
    "    def func2(self):\n",
    "        print(\"hello parent2\")\n",
    "\n",
    "class parent3:\n",
    "    def func2(self):\n",
    "        print(\"Hello parent3\")\n",
    "\n",
    "class child(parent1, parent2, parent3):\n",
    "    def func3(self):\n",
    "        print(\"Hello child\")\n",
    "\n",
    "#driver code\n",
    "test = child()  #object created\n",
    "test.func1()   #parent1 method called cia child\n",
    "test.func2()\n",
    "test.func3()\n",
    "\n",
    "print(child.__mro__)"
   ]
  },
  {
   "cell_type": "code",
   "execution_count": 13,
   "id": "c09e69b3",
   "metadata": {},
   "outputs": [
    {
     "name": "stdout",
     "output_type": "stream",
     "text": [
      "True\n",
      "False\n"
     ]
    }
   ],
   "source": [
    "\n",
    "class parent:\n",
    "    def func1():\n",
    "        print(\"Hello Parent\")\n",
    "\n",
    "class child(parent):\n",
    "    def func2():\n",
    "        print(\"Hello Child\")\n",
    "\n",
    "print(issubclass(child,parent))\n",
    "\n",
    "print(issubclass(parent,child))"
   ]
  },
  {
   "cell_type": "code",
   "execution_count": 14,
   "id": "86657f9b",
   "metadata": {},
   "outputs": [
    {
     "name": "stdout",
     "output_type": "stream",
     "text": [
      "circle\n",
      "153.93804002589985\n",
      "i am a two-dimentional shape\n"
     ]
    }
   ],
   "source": [
    "from math import pi\n",
    "class shape:\n",
    "    def __init__(self, name):\n",
    "        self.name = name\n",
    "    \n",
    "    def area(self):\n",
    "        pass\n",
    "    \n",
    "    def fact(self):\n",
    "        return \"i am a two-dimentional shape\"\n",
    "    \n",
    "    def __str__(self):\n",
    "        return self.name\n",
    "\n",
    "class circle(shape):\n",
    "    \n",
    "    def __init__(self,radius):\n",
    "        super().__init__(\"circle\")\n",
    "        self.radius = radius\n",
    "    \n",
    "    def area(self):\n",
    "        return pi*self.radius**2\n",
    "\n",
    "shape_circle = circle(7)\n",
    "\n",
    "print(shape_circle)\n",
    "print(shape_circle.area())\n",
    "print(shape_circle.fact())\n"
   ]
  },
  {
   "cell_type": "code",
   "execution_count": null,
   "id": "135d885f",
   "metadata": {},
   "outputs": [],
   "source": []
  }
 ],
 "metadata": {
  "kernelspec": {
   "display_name": "Python 3 (ipykernel)",
   "language": "python",
   "name": "python3"
  },
  "language_info": {
   "codemirror_mode": {
    "name": "ipython",
    "version": 3
   },
   "file_extension": ".py",
   "mimetype": "text/x-python",
   "name": "python",
   "nbconvert_exporter": "python",
   "pygments_lexer": "ipython3",
   "version": "3.8.13"
  }
 },
 "nbformat": 4,
 "nbformat_minor": 5
}
