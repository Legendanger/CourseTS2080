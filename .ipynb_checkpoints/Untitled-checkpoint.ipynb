{
 "cells": [
  {
   "cell_type": "code",
   "execution_count": null,
   "id": "e2f2ed97",
   "metadata": {},
   "outputs": [],
   "source": [
    "class phyton:\n",
    "    #making the constructor. \n",
    "    def_init_(self,name,salary,project)\n",
    "    self.name = name\n",
    "    self.salary = salary\n",
    "    self.project = project"
   ]
  },
  {
   "cell_type": "code",
   "execution_count": null,
   "id": "27b66c32",
   "metadata": {},
   "outputs": [],
   "source": [
    "#creating aobject of a class\n",
    "\n",
    "emp= Employee( 'Henning', 9000,)\n",
    "\n",
    "print (emp.name)\n",
    "print (emp.salary)\n",
    "print (emp)"
   ]
  },
  {
   "cell_type": "code",
   "execution_count": 1,
   "id": "75bee7e8",
   "metadata": {},
   "outputs": [
    {
     "ename": "NameError",
     "evalue": "name 'Employee' is not defined",
     "output_type": "error",
     "traceback": [
      "\u001b[1;31m---------------------------------------------------------------------------\u001b[0m",
      "\u001b[1;31mNameError\u001b[0m                                 Traceback (most recent call last)",
      "Input \u001b[1;32mIn [1]\u001b[0m, in \u001b[0;36m<cell line: 10>\u001b[1;34m()\u001b[0m\n\u001b[0;32m      6\u001b[0m     \u001b[38;5;28;01mdef\u001b[39;00m \u001b[38;5;21mshow\u001b[39m(\u001b[38;5;28mself\u001b[39m):\n\u001b[0;32m      7\u001b[0m         \u001b[38;5;28mprint\u001b[39m(\u001b[38;5;124m\"\u001b[39m\u001b[38;5;124mName:\u001b[39m\u001b[38;5;124m\"\u001b[39m, \u001b[38;5;28mself\u001b[39m\u001b[38;5;241m.\u001b[39mname, \u001b[38;5;124m'\u001b[39m\u001b[38;5;124mSalary\u001b[39m\u001b[38;5;124m'\u001b[39m, \u001b[38;5;28mself\u001b[39m\u001b[38;5;241m.\u001b[39m_salary)\n\u001b[1;32m---> 10\u001b[0m emp \u001b[38;5;241m=\u001b[39m \u001b[43mEmployee\u001b[49m(\u001b[38;5;124m'\u001b[39m\u001b[38;5;124mHenning\u001b[39m\u001b[38;5;124m'\u001b[39m)\n",
      "\u001b[1;31mNameError\u001b[0m: name 'Employee' is not defined"
     ]
    }
   ],
   "source": [
    "class phyton:\n",
    "    def __init__(self,name,salary):\n",
    "        self.name = name \n",
    "        self.__salary = salary\n",
    "\n",
    "    def show(self):\n",
    "        print(\"Name:\", self.name, 'Salary', self._salary)\n",
    "        \n",
    "\n",
    "emp = Employee('Henning')"
   ]
  },
  {
   "cell_type": "code",
   "execution_count": null,
   "id": "2a7248e0",
   "metadata": {},
   "outputs": [],
   "source": [
    "class Company:\n",
    "    def __init__(self)"
   ]
  }
 ],
 "metadata": {
  "kernelspec": {
   "display_name": "Python 3 (ipykernel)",
   "language": "python",
   "name": "python3"
  },
  "language_info": {
   "codemirror_mode": {
    "name": "ipython",
    "version": 3
   },
   "file_extension": ".py",
   "mimetype": "text/x-python",
   "name": "python",
   "nbconvert_exporter": "python",
   "pygments_lexer": "ipython3",
   "version": "3.8.13"
  }
 },
 "nbformat": 4,
 "nbformat_minor": 5
}
